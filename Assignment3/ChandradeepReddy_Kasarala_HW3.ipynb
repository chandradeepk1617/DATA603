{
 "cells": [
  {
   "cell_type": "markdown",
   "id": "64fbdaf5",
   "metadata": {},
   "source": [
    "## 1) CREATE A SPARK SESSION"
   ]
  },
  {
   "cell_type": "code",
   "execution_count": 1,
   "id": "2c98fcbd",
   "metadata": {},
   "outputs": [
    {
     "name": "stdout",
     "output_type": "stream",
     "text": [
      "Spark version: 3.3.2\n"
     ]
    }
   ],
   "source": [
    "from pyspark.sql import SparkSession\n",
    "\n",
    "# Creating a SparkSession\n",
    "spark = SparkSession.builder.appName(\"Assignment_3\").getOrCreate()\n",
    "\n",
    "# Printing the Spark version\n",
    "print(\"Spark version:\", spark.version)"
   ]
  },
  {
   "cell_type": "markdown",
   "id": "00ef31c6",
   "metadata": {},
   "source": [
    "## 2) DEFINE THE SCHEMA FOR LOADING CHICAGO DATA SET"
   ]
  },
  {
   "cell_type": "code",
   "execution_count": 2,
   "id": "fc90b359",
   "metadata": {},
   "outputs": [],
   "source": [
    "from pyspark.sql.types import StructType, StructField, IntegerType, StringType, TimestampType, DoubleType\n",
    "\n",
    "# Defining the schema for the Chicago crime dataset\n",
    "schema = StructType([\n",
    "    StructField(\"ID\", IntegerType(), True),\n",
    "    StructField(\"Case Number\", StringType(), True),\n",
    "    StructField(\"Date\", StringType(), True),\n",
    "    StructField(\"Block\", StringType(), True),\n",
    "    StructField(\"IUCR\", StringType(), True),\n",
    "    StructField(\"Primary Type\", StringType(), True),\n",
    "    StructField(\"Description\", StringType(), True),\n",
    "    StructField(\"Location Description\", StringType(), True),\n",
    "    StructField(\"Arrest\", StringType(), True),\n",
    "    StructField(\"Domestic\", StringType(), True),\n",
    "    StructField(\"Beat\", IntegerType(), True),\n",
    "    StructField(\"District\", IntegerType(), True),\n",
    "    StructField(\"Ward\", IntegerType(), True),\n",
    "    StructField(\"Community Area\", IntegerType(), True),\n",
    "    StructField(\"FBI Code\", StringType(), True),\n",
    "    StructField(\"X Coordinate\", DoubleType(), True),\n",
    "    StructField(\"Y Coordinate\", DoubleType(), True),\n",
    "    StructField(\"Year\", IntegerType(), True),\n",
    "    StructField(\"Updated On\", StringType(), True),\n",
    "    StructField(\"Latitude\", DoubleType(), True),\n",
    "    StructField(\"Longitude\", DoubleType(), True),\n",
    "    StructField(\"Location\", StringType(), True)\n",
    "])\n"
   ]
  },
  {
   "cell_type": "markdown",
   "id": "8a405ffb",
   "metadata": {},
   "source": [
    "## 3) LOADING CHICAGO CRIMES DATA SET"
   ]
  },
  {
   "cell_type": "code",
   "execution_count": 3,
   "id": "84f67fa5",
   "metadata": {},
   "outputs": [],
   "source": [
    "#Loading CSV file\n",
    "df = spark.read.csv(\"Crimes_-_2001_to_Present.csv\", header=True, schema=schema)"
   ]
  },
  {
   "cell_type": "code",
   "execution_count": 4,
   "id": "1c05a59c",
   "metadata": {},
   "outputs": [
    {
     "name": "stdout",
     "output_type": "stream",
     "text": [
      "+--------+-----------+--------------------+--------------------+----+------------------+--------------------+--------------------+------+--------+----+--------+----+--------------+--------+------------+------------+----+--------------------+------------+-------------+--------------------+\n",
      "|      ID|Case Number|                Date|               Block|IUCR|      Primary Type|         Description|Location Description|Arrest|Domestic|Beat|District|Ward|Community Area|FBI Code|X Coordinate|Y Coordinate|Year|          Updated On|    Latitude|    Longitude|            Location|\n",
      "+--------+-----------+--------------------+--------------------+----+------------------+--------------------+--------------------+------+--------+----+--------+----+--------------+--------+------------+------------+----+--------------------+------------+-------------+--------------------+\n",
      "|10224738|   HY411648|09/05/2015 01:30:...|     043XX S WOOD ST|0486|           BATTERY|DOMESTIC BATTERY ...|           RESIDENCE| false|    true| 924|       9|  12|            61|     08B|   1165074.0|   1875917.0|2015|02/10/2018 03:50:...|41.815117282|-87.669999562|(41.815117282, -8...|\n",
      "|10224739|   HY411615|09/04/2015 11:30:...| 008XX N CENTRAL AVE|0870|             THEFT|      POCKET-PICKING|             CTA BUS| false|   false|1511|      15|  29|            25|      06|   1138875.0|   1904869.0|2015|02/10/2018 03:50:...|41.895080471|-87.765400451|(41.895080471, -8...|\n",
      "|11646166|   JC213529|09/01/2018 12:01:...|082XX S INGLESIDE...|0810|             THEFT|           OVER $500|           RESIDENCE| false|    true| 631|       6|   8|            44|      06|        null|        null|2018|04/06/2019 04:04:...|        null|         null|                null|\n",
      "|10224740|   HY411595|09/05/2015 12:45:...|   035XX W BARRY AVE|2023|         NARCOTICS|POSS: HEROIN(BRN/...|            SIDEWALK|  true|   false|1412|      14|  35|            21|      18|   1152037.0|   1920384.0|2015|02/10/2018 03:50:...|41.937405765|-87.716649687|(41.937405765, -8...|\n",
      "|10224741|   HY411610|09/05/2015 01:00:...| 0000X N LARAMIE AVE|0560|           ASSAULT|              SIMPLE|           APARTMENT| false|    true|1522|      15|  28|            25|     08A|   1141706.0|   1900086.0|2015|02/10/2018 03:50:...|41.881903443|-87.755121152|(41.881903443, -8...|\n",
      "|10224742|   HY411435|09/05/2015 10:55:...| 082XX S LOOMIS BLVD|0610|          BURGLARY|      FORCIBLE ENTRY|           RESIDENCE| false|   false| 614|       6|  21|            71|      05|   1168430.0|   1850165.0|2015|02/10/2018 03:50:...|41.744378879|-87.658430635|(41.744378879, -8...|\n",
      "|10224743|   HY411629|09/04/2015 06:00:...|021XX W CHURCHILL ST|0620|          BURGLARY|      UNLAWFUL ENTRY|    RESIDENCE-GARAGE| false|   false|1434|      14|  32|            24|      05|   1161628.0|   1912157.0|2015|02/10/2018 03:50:...|41.914635603|-87.681630909|(41.914635603, -8...|\n",
      "|10224744|   HY411605|09/05/2015 01:00:...|   025XX W CERMAK RD|0860|             THEFT|        RETAIL THEFT|  GROCERY FOOD STORE|  true|   false|1034|      10|  25|            31|      06|   1159734.0|   1889313.0|2015|09/17/2015 11:37:...|41.851988885|-87.689219118|(41.851988885, -8...|\n",
      "|10224745|   HY411654|09/05/2015 11:30:...|031XX W WASHINGTO...|0320|           ROBBERY|STRONGARM - NO WE...|              STREET| false|    true|1222|      12|  27|            27|      03|   1155536.0|   1900515.0|2015|02/10/2018 03:50:...| 41.88281374|-87.704325717|(41.88281374, -87...|\n",
      "|11645836|   JC212333|05/01/2016 12:25:...| 055XX S ROCKWELL ST|1153|DECEPTIVE PRACTICE|FINANCIAL IDENTIT...|                null| false|   false| 824|       8|  15|            63|      11|        null|        null|2016|04/06/2019 04:04:...|        null|         null|                null|\n",
      "+--------+-----------+--------------------+--------------------+----+------------------+--------------------+--------------------+------+--------+----+--------+----+--------------+--------+------------+------------+----+--------------------+------------+-------------+--------------------+\n",
      "only showing top 10 rows\n",
      "\n"
     ]
    }
   ],
   "source": [
    "# PRINTING TOP 10 RECORDS\n",
    "df.show(10)"
   ]
  },
  {
   "cell_type": "code",
   "execution_count": 5,
   "id": "6136ff2f",
   "metadata": {},
   "outputs": [
    {
     "data": {
      "text/plain": [
       "7760918"
      ]
     },
     "execution_count": 5,
     "metadata": {},
     "output_type": "execute_result"
    }
   ],
   "source": [
    "#Printing Number of rows\n",
    "df.count()"
   ]
  },
  {
   "cell_type": "markdown",
   "id": "828bfba4",
   "metadata": {},
   "source": [
    "## 4) a) REMOVE NULL VALUES"
   ]
  },
  {
   "cell_type": "code",
   "execution_count": 6,
   "id": "9cf3c5dd",
   "metadata": {},
   "outputs": [],
   "source": [
    "df = df.dropna()"
   ]
  },
  {
   "cell_type": "code",
   "execution_count": 7,
   "id": "0bae2e4a",
   "metadata": {},
   "outputs": [
    {
     "data": {
      "text/plain": [
       "7061907"
      ]
     },
     "execution_count": 7,
     "metadata": {},
     "output_type": "execute_result"
    }
   ],
   "source": [
    "#CHECKING THE COUNT AFTER REMOVING NULL VALUES\n",
    "df.count()"
   ]
  },
  {
   "cell_type": "markdown",
   "id": "0b8cd17a",
   "metadata": {},
   "source": [
    "## 4) b) CHANGE THE DATA TYPE OF DATE COLUMN"
   ]
  },
  {
   "cell_type": "code",
   "execution_count": 8,
   "id": "04c508f8",
   "metadata": {},
   "outputs": [],
   "source": [
    "from pyspark.sql.functions import to_timestamp"
   ]
  },
  {
   "cell_type": "code",
   "execution_count": 9,
   "id": "82f6ce40",
   "metadata": {},
   "outputs": [
    {
     "name": "stdout",
     "output_type": "stream",
     "text": [
      "root\n",
      " |-- ID: integer (nullable = true)\n",
      " |-- Case Number: string (nullable = true)\n",
      " |-- Date: string (nullable = true)\n",
      " |-- Block: string (nullable = true)\n",
      " |-- IUCR: string (nullable = true)\n",
      " |-- Primary Type: string (nullable = true)\n",
      " |-- Description: string (nullable = true)\n",
      " |-- Location Description: string (nullable = true)\n",
      " |-- Arrest: string (nullable = true)\n",
      " |-- Domestic: string (nullable = true)\n",
      " |-- Beat: integer (nullable = true)\n",
      " |-- District: integer (nullable = true)\n",
      " |-- Ward: integer (nullable = true)\n",
      " |-- Community Area: integer (nullable = true)\n",
      " |-- FBI Code: string (nullable = true)\n",
      " |-- X Coordinate: double (nullable = true)\n",
      " |-- Y Coordinate: double (nullable = true)\n",
      " |-- Year: integer (nullable = true)\n",
      " |-- Updated On: string (nullable = true)\n",
      " |-- Latitude: double (nullable = true)\n",
      " |-- Longitude: double (nullable = true)\n",
      " |-- Location: string (nullable = true)\n",
      "\n"
     ]
    }
   ],
   "source": [
    "#Printing the Schema before changing data type of Date Column\n",
    "df.printSchema()"
   ]
  },
  {
   "cell_type": "code",
   "execution_count": 10,
   "id": "d1628fc2",
   "metadata": {},
   "outputs": [],
   "source": [
    "#Changing the data type of date column from string to TimeStamp\n",
    "df = df.withColumn(\"Date\", to_timestamp(df[\"Date\"], \"MM/dd/yyyy hh:mm:ss a\"))\n"
   ]
  },
  {
   "cell_type": "code",
   "execution_count": 11,
   "id": "39963487",
   "metadata": {},
   "outputs": [
    {
     "name": "stdout",
     "output_type": "stream",
     "text": [
      "root\n",
      " |-- ID: integer (nullable = true)\n",
      " |-- Case Number: string (nullable = true)\n",
      " |-- Date: timestamp (nullable = true)\n",
      " |-- Block: string (nullable = true)\n",
      " |-- IUCR: string (nullable = true)\n",
      " |-- Primary Type: string (nullable = true)\n",
      " |-- Description: string (nullable = true)\n",
      " |-- Location Description: string (nullable = true)\n",
      " |-- Arrest: string (nullable = true)\n",
      " |-- Domestic: string (nullable = true)\n",
      " |-- Beat: integer (nullable = true)\n",
      " |-- District: integer (nullable = true)\n",
      " |-- Ward: integer (nullable = true)\n",
      " |-- Community Area: integer (nullable = true)\n",
      " |-- FBI Code: string (nullable = true)\n",
      " |-- X Coordinate: double (nullable = true)\n",
      " |-- Y Coordinate: double (nullable = true)\n",
      " |-- Year: integer (nullable = true)\n",
      " |-- Updated On: string (nullable = true)\n",
      " |-- Latitude: double (nullable = true)\n",
      " |-- Longitude: double (nullable = true)\n",
      " |-- Location: string (nullable = true)\n",
      "\n"
     ]
    }
   ],
   "source": [
    "# PRINTING THE SCHEMA TO CHECK THE DATA TYPE CHANGE\n",
    "df.printSchema()"
   ]
  },
  {
   "cell_type": "markdown",
   "id": "4de843fd",
   "metadata": {},
   "source": [
    "## 5) Filter the data for last ten years."
   ]
  },
  {
   "cell_type": "code",
   "execution_count": 12,
   "id": "2c9a0a2a",
   "metadata": {},
   "outputs": [],
   "source": [
    "from pyspark.sql.functions import current_date, date_sub,when,col,year,count,hour,desc"
   ]
  },
  {
   "cell_type": "code",
   "execution_count": 13,
   "id": "3dbaf6e5",
   "metadata": {},
   "outputs": [],
   "source": [
    "# Calculating the date 10 years ago from today\n",
    "ten_years_ago = date_sub(current_date(), 365 * 10)"
   ]
  },
  {
   "cell_type": "code",
   "execution_count": 14,
   "id": "a2013d44",
   "metadata": {},
   "outputs": [],
   "source": [
    "#Filter the DataFrame for dates within the last ten years\n",
    "df1 = df.filter(df.Date >= ten_years_ago)"
   ]
  },
  {
   "cell_type": "code",
   "execution_count": 15,
   "id": "93d64467",
   "metadata": {},
   "outputs": [
    {
     "name": "stdout",
     "output_type": "stream",
     "text": [
      "+-------------------+-----+\n",
      "|               Date|count|\n",
      "+-------------------+-----+\n",
      "|2015-09-05 18:05:00|    1|\n",
      "|2015-09-07 19:20:00|    1|\n",
      "|2016-04-20 20:10:29|    1|\n",
      "|2016-11-17 22:21:29|    1|\n",
      "|2016-11-26 19:48:23|    1|\n",
      "|2015-09-07 22:53:00|    1|\n",
      "|2015-09-09 16:48:00|    2|\n",
      "|2015-09-11 16:27:00|    1|\n",
      "|2015-09-11 23:36:00|    1|\n",
      "|2015-03-30 09:00:00|   21|\n",
      "|2015-09-12 16:13:00|    1|\n",
      "|2015-09-12 17:35:00|    1|\n",
      "|2015-09-12 18:44:00|    1|\n",
      "|2015-09-13 21:22:00|    1|\n",
      "|2015-09-11 15:20:00|    1|\n",
      "|2015-09-15 13:20:00|    1|\n",
      "|2015-09-15 19:35:00|    1|\n",
      "|2015-04-24 13:46:00|    1|\n",
      "|2015-04-01 00:01:00|   20|\n",
      "|2015-09-16 18:02:00|    1|\n",
      "+-------------------+-----+\n",
      "only showing top 20 rows\n",
      "\n"
     ]
    }
   ],
   "source": [
    "#PRINTING THE VALUE COUNTS OF DATE COLUMN TO VERIFY THE FILTER\n",
    "df1.groupBy(\"Date\").count().show()"
   ]
  },
  {
   "cell_type": "code",
   "execution_count": 16,
   "id": "7231ceb7",
   "metadata": {},
   "outputs": [
    {
     "data": {
      "text/plain": [
       "2511584"
      ]
     },
     "execution_count": 16,
     "metadata": {},
     "output_type": "execute_result"
    }
   ],
   "source": [
    "#CHECKING NUMBER OF ROWS IN NEW DATA FRAME\n",
    "df1.count()"
   ]
  },
  {
   "cell_type": "markdown",
   "id": "a8cb52f8",
   "metadata": {},
   "source": [
    "## 6) Remove all the records with the following crime types:\n",
    "##### 'NON-CRIMINAL (SUBJECT SPECIFIED)'\n",
    "##### 'OTHER OFFENSE'\n",
    "#####  'STALKING'\n",
    "#####  'NON - CRIMINAL'\n",
    "#####  'ARSON'"
   ]
  },
  {
   "cell_type": "code",
   "execution_count": 17,
   "id": "3e6deac9",
   "metadata": {},
   "outputs": [
    {
     "name": "stdout",
     "output_type": "stream",
     "text": [
      "+--------+-----------+-------------------+--------------------+----+------------+--------------------+--------------------+------+--------+----+--------+----+--------------+--------+------------+------------+----+--------------------+------------+-------------+--------------------+\n",
      "|      ID|Case Number|               Date|               Block|IUCR|Primary Type|         Description|Location Description|Arrest|Domestic|Beat|District|Ward|Community Area|FBI Code|X Coordinate|Y Coordinate|Year|          Updated On|    Latitude|    Longitude|            Location|\n",
      "+--------+-----------+-------------------+--------------------+----+------------+--------------------+--------------------+------+--------+----+--------+----+--------------+--------+------------+------------+----+--------------------+------------+-------------+--------------------+\n",
      "|10224738|   HY411648|2015-09-05 13:30:00|     043XX S WOOD ST|0486|     BATTERY|DOMESTIC BATTERY ...|           RESIDENCE| false|    true| 924|       9|  12|            61|     08B|   1165074.0|   1875917.0|2015|02/10/2018 03:50:...|41.815117282|-87.669999562|(41.815117282, -8...|\n",
      "|10224739|   HY411615|2015-09-04 11:30:00| 008XX N CENTRAL AVE|0870|       THEFT|      POCKET-PICKING|             CTA BUS| false|   false|1511|      15|  29|            25|      06|   1138875.0|   1904869.0|2015|02/10/2018 03:50:...|41.895080471|-87.765400451|(41.895080471, -8...|\n",
      "|10224740|   HY411595|2015-09-05 12:45:00|   035XX W BARRY AVE|2023|   NARCOTICS|POSS: HEROIN(BRN/...|            SIDEWALK|  true|   false|1412|      14|  35|            21|      18|   1152037.0|   1920384.0|2015|02/10/2018 03:50:...|41.937405765|-87.716649687|(41.937405765, -8...|\n",
      "|10224741|   HY411610|2015-09-05 13:00:00| 0000X N LARAMIE AVE|0560|     ASSAULT|              SIMPLE|           APARTMENT| false|    true|1522|      15|  28|            25|     08A|   1141706.0|   1900086.0|2015|02/10/2018 03:50:...|41.881903443|-87.755121152|(41.881903443, -8...|\n",
      "|10224742|   HY411435|2015-09-05 10:55:00| 082XX S LOOMIS BLVD|0610|    BURGLARY|      FORCIBLE ENTRY|           RESIDENCE| false|   false| 614|       6|  21|            71|      05|   1168430.0|   1850165.0|2015|02/10/2018 03:50:...|41.744378879|-87.658430635|(41.744378879, -8...|\n",
      "|10224743|   HY411629|2015-09-04 18:00:00|021XX W CHURCHILL ST|0620|    BURGLARY|      UNLAWFUL ENTRY|    RESIDENCE-GARAGE| false|   false|1434|      14|  32|            24|      05|   1161628.0|   1912157.0|2015|02/10/2018 03:50:...|41.914635603|-87.681630909|(41.914635603, -8...|\n",
      "|10224744|   HY411605|2015-09-05 13:00:00|   025XX W CERMAK RD|0860|       THEFT|        RETAIL THEFT|  GROCERY FOOD STORE|  true|   false|1034|      10|  25|            31|      06|   1159734.0|   1889313.0|2015|09/17/2015 11:37:...|41.851988885|-87.689219118|(41.851988885, -8...|\n",
      "|10224745|   HY411654|2015-09-05 11:30:00|031XX W WASHINGTO...|0320|     ROBBERY|STRONGARM - NO WE...|              STREET| false|    true|1222|      12|  27|            27|      03|   1155536.0|   1900515.0|2015|02/10/2018 03:50:...| 41.88281374|-87.704325717|(41.88281374, -87...|\n",
      "|10224746|   HY411662|2015-09-05 14:00:00|  071XX S PULASKI RD|0820|       THEFT|      $500 AND UNDER|PARKING LOT/GARAG...| false|   false| 833|       8|  13|            65|      06|   1150938.0|   1857056.0|2015|02/10/2018 03:50:...|41.763647552|-87.722344693|(41.763647552, -8...|\n",
      "|10224749|   HY411626|2015-09-05 11:00:00|052XX N MILWAUKEE...|0460|     BATTERY|              SIMPLE|  SMALL RETAIL STORE| false|   false|1623|      16|  45|            11|     08B|   1137969.0|   1934340.0|2015|02/10/2018 03:50:...|41.975968415|-87.768014257|(41.975968415, -8...|\n",
      "+--------+-----------+-------------------+--------------------+----+------------+--------------------+--------------------+------+--------+----+--------+----+--------------+--------+------------+------------+----+--------------------+------------+-------------+--------------------+\n",
      "only showing top 10 rows\n",
      "\n"
     ]
    }
   ],
   "source": [
    "crime_types_to_remove = ['NON-CRIMINAL (SUBJECT SPECIFIED)', 'OTHER OFFENSE', 'STALKING', 'NON - CRIMINAL', 'ARSON']\n",
    "\n",
    "# filter out the records with the specified crime types\n",
    "df1 = df1.filter(~df1[\"Primary Type\"].isin(crime_types_to_remove))\n",
    "\n",
    "# show the first 10 rows of the filtered DataFrame\n",
    "df1.show(10)\n"
   ]
  },
  {
   "cell_type": "code",
   "execution_count": 18,
   "id": "1a74fe06",
   "metadata": {},
   "outputs": [
    {
     "name": "stdout",
     "output_type": "stream",
     "text": [
      "+--------------------+------+\n",
      "|        Primary Type| count|\n",
      "+--------------------+------+\n",
      "|OFFENSE INVOLVING...| 20882|\n",
      "|CRIMINAL SEXUAL A...|  5442|\n",
      "|PUBLIC PEACE VIOL...| 16473|\n",
      "|           OBSCENITY|   517|\n",
      "|            GAMBLING|  2046|\n",
      "|   CRIMINAL TRESPASS| 59529|\n",
      "|             ASSAULT|190186|\n",
      "|LIQUOR LAW VIOLATION|  2495|\n",
      "| MOTOR VEHICLE THEFT|118168|\n",
      "|               THEFT|567678|\n",
      "|             BATTERY|469986|\n",
      "|             ROBBERY| 96778|\n",
      "|            HOMICIDE|  6294|\n",
      "|    PUBLIC INDECENCY|    98|\n",
      "| CRIM SEXUAL ASSAULT|  8552|\n",
      "|   HUMAN TRAFFICKING|    88|\n",
      "|        INTIMIDATION|  1473|\n",
      "|        PROSTITUTION|  7785|\n",
      "|  DECEPTIVE PRACTICE|155593|\n",
      "|CONCEALED CARRY L...|  1056|\n",
      "+--------------------+------+\n",
      "only showing top 20 rows\n",
      "\n"
     ]
    }
   ],
   "source": [
    "#SHOWING THE VALUE COUNTS OF PRIMARY COUNT COLUMN\n",
    "df1.groupBy(\"Primary Type\").count().show()"
   ]
  },
  {
   "cell_type": "markdown",
   "id": "7d8f4d7c",
   "metadata": {},
   "source": [
    "## 7) Merge the similar crime types"
   ]
  },
  {
   "cell_type": "code",
   "execution_count": 19,
   "id": "7a46fc6e",
   "metadata": {},
   "outputs": [],
   "source": [
    "#Merging similar crime Types\n",
    "df1 = df1.withColumn(\"Primary Type\", \\\n",
    "                        when(col(\"Primary Type\") == \"SEX OFFENSE\", \"SEX CRIMES\") \\\n",
    "                        .when(col(\"Primary Type\") == \"PROSTITUTION\", \"SEX CRIMES\") \\\n",
    "                        .when(col(\"Primary Type\") == \"MOTOR VEHICLE THEFT\", \"THEFT\") \\\n",
    "                        .when(col(\"Primary Type\") == \"THEFT\", \"THEFT\")                                          \n",
    "                        .otherwise(col(\"Primary Type\")))"
   ]
  },
  {
   "cell_type": "code",
   "execution_count": 20,
   "id": "3dcb8b26",
   "metadata": {},
   "outputs": [
    {
     "name": "stdout",
     "output_type": "stream",
     "text": [
      "+--------------------+------+\n",
      "|        Primary Type| count|\n",
      "+--------------------+------+\n",
      "|OFFENSE INVOLVING...| 20882|\n",
      "|CRIMINAL SEXUAL A...|  5442|\n",
      "|PUBLIC PEACE VIOL...| 16473|\n",
      "|           OBSCENITY|   517|\n",
      "|            GAMBLING|  2046|\n",
      "|          SEX CRIMES| 17868|\n",
      "|   CRIMINAL TRESPASS| 59529|\n",
      "|             ASSAULT|190186|\n",
      "|LIQUOR LAW VIOLATION|  2495|\n",
      "|               THEFT|685846|\n",
      "|             BATTERY|469986|\n",
      "|             ROBBERY| 96778|\n",
      "|            HOMICIDE|  6294|\n",
      "|    PUBLIC INDECENCY|    98|\n",
      "| CRIM SEXUAL ASSAULT|  8552|\n",
      "|   HUMAN TRAFFICKING|    88|\n",
      "|        INTIMIDATION|  1473|\n",
      "|  DECEPTIVE PRACTICE|155593|\n",
      "|CONCEALED CARRY L...|  1056|\n",
      "|     CRIMINAL DAMAGE|276813|\n",
      "+--------------------+------+\n",
      "only showing top 20 rows\n",
      "\n"
     ]
    }
   ],
   "source": [
    "#SHOWING THE VALUE COUNTS OF PRIMARY COUNT COLUMN\n",
    "df1.groupBy(\"Primary Type\").count().show()"
   ]
  },
  {
   "cell_type": "code",
   "execution_count": 21,
   "id": "3e2f8045",
   "metadata": {},
   "outputs": [],
   "source": [
    "import matplotlib.pyplot as plt"
   ]
  },
  {
   "cell_type": "markdown",
   "id": "667c8d2a",
   "metadata": {},
   "source": [
    "## 8) a) Show year-wise trend of the crime for last ten years."
   ]
  },
  {
   "cell_type": "code",
   "execution_count": 22,
   "id": "0f9fc0de",
   "metadata": {},
   "outputs": [
    {
     "data": {
      "image/png": "[encoded data removed]",
      "text/plain": [
       "<Figure size 640x480 with 1 Axes>"
      ]
     },
     "metadata": {},
     "output_type": "display_data"
    }
   ],
   "source": [
    "crime_data_year = df1.withColumn(\"Year\", year(\"Date\"))\n",
    "\n",
    "# showing year-wise trend of crime for the last ten years using line graph\n",
    "crime_data_year.filter(col(\"Year\") >= 2011) \\\n",
    "    .groupBy(\"Year\").agg(count(\"*\").alias(\"Total Crimes\"))\\\n",
    "    .sort(\"Year\") \\\n",
    "    .toPandas() \\\n",
    "    .plot(kind='line', x='Year', y='Total Crimes', color='blue')\n",
    "plt.show()"
   ]
  },
  {
   "cell_type": "code",
   "execution_count": 23,
   "id": "d99140d3",
   "metadata": {},
   "outputs": [
    {
     "data": {
      "image/png": "[encoded data removed]",
      "text/plain": [
       "<Figure size 640x480 with 1 Axes>"
      ]
     },
     "metadata": {},
     "output_type": "display_data"
    }
   ],
   "source": [
    "# showing year-wise trend of crime for the last ten years using bar graph\n",
    "crime_data_year.filter(col(\"Year\") >= 2011) \\\n",
    "    .groupBy(\"Year\").agg(count(\"*\").alias(\"Total Crimes\"))\\\n",
    "    .sort(\"Year\") \\\n",
    "    .toPandas() \\\n",
    "    .plot(kind='bar', x='Year', y='Total Crimes', color='blue')\n",
    "plt.show()"
   ]
  },
  {
   "cell_type": "markdown",
   "id": "725904fe",
   "metadata": {},
   "source": [
    "## 8) b) Find out at which hour of the day crime is highest."
   ]
  },
  {
   "cell_type": "code",
   "execution_count": 24,
   "id": "7599938b",
   "metadata": {},
   "outputs": [
    {
     "data": {
      "image/png": "[encoded data removed]",
      "text/plain": [
       "<Figure size 640x480 with 1 Axes>"
      ]
     },
     "metadata": {},
     "output_type": "display_data"
    }
   ],
   "source": [
    "crime_data_hour = df1.withColumn(\"Hour\", hour(\"Date\"))\n",
    "crime_data_hour.groupBy(\"Hour\").count().sort(desc(\"count\")).toPandas() \\\n",
    ".plot(kind='bar',x='Hour',y='count',color='blue')\n",
    "plt.show()"
   ]
  },
  {
   "cell_type": "markdown",
   "id": "39c29f32",
   "metadata": {},
   "source": [
    "12th hour of a day has highest number of crimes "
   ]
  },
  {
   "cell_type": "markdown",
   "id": "75b375db",
   "metadata": {},
   "source": [
    "## 8) c)  Find top ten crimes and present them as a bar chart "
   ]
  },
  {
   "cell_type": "code",
   "execution_count": 25,
   "id": "e623be8c",
   "metadata": {},
   "outputs": [
    {
     "data": {
      "image/png": "[encoded data removed]",
      "text/plain": [
       "<Figure size 640x480 with 1 Axes>"
      ]
     },
     "metadata": {},
     "output_type": "display_data"
    }
   ],
   "source": [
    "df1.groupBy(\"Primary Type\").count() \\\n",
    "    .sort(desc(\"count\")).limit(10).toPandas() \\\n",
    "    .plot(kind='bar', x='Primary Type', y='count', color='blue')\n",
    "plt.show()\n"
   ]
  },
  {
   "cell_type": "code",
   "execution_count": null,
   "id": "a5fa4bdd",
   "metadata": {},
   "outputs": [],
   "source": []
  }
 ],
 "metadata": {
  "kernelspec": {
   "display_name": "Python 3 (ipykernel)",
   "language": "python",
   "name": "python3"
  },
  "language_info": {
   "codemirror_mode": {
    "name": "ipython",
    "version": 3
   },
   "file_extension": ".py",
   "mimetype": "text/x-python",
   "name": "python",
   "nbconvert_exporter": "python",
   "pygments_lexer": "ipython3",
   "version": "3.11.1"
  }
 },
 "nbformat": 4,
 "nbformat_minor": 5
}
