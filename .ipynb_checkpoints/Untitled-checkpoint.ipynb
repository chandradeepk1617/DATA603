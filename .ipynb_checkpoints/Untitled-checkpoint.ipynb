{
 "cells": [
  {
   "cell_type": "markdown",
   "id": "7638d25e",
   "metadata": {},
   "source": [
    "## 1) WHAT IS BIGDATA AND ITS TYPES"
   ]
  },
  {
   "cell_type": "markdown",
   "id": "00743506",
   "metadata": {},
   "source": [
    "Big data refers to data collections that are too vast or complicated for conventional data-processing application software to handle. Huge amount of data is generated from a variety of sources like mobile devices, inexpensive and widespread Internet of Things devices, aerial (remote sensing), software logs, cameras, microphones, radio-frequency identification (RFID) readers, and wireless sensor networks. \n",
    "\n",
    "\n",
    "### Types of bigdata. \n",
    "\n",
    "Big data is classified into 3 types\n",
    "1.\tStructured\n",
    "2.\tSemi Structured\n",
    "3.\tUnStructured\n",
    "### 1.Structured Data :\n",
    "\n",
    "Structured data is easy to analyze and sort because it has predefined properties and is present in structured or tabular schema. Each field is independent and accessible separately or in combinations with data from other fields because it is predefined. Excel files and Sql databases are examples of structured data.\n",
    "\n",
    "### 2.Unstructured Data :\n",
    "Unstructured data consists of information without conceptual definitions that is difficult for typical databases or data models to interpret or analyze. Big data is mostly composed of unstructured data, which includes facts, dates, and numbers. The photos we upload on Facebook and other social network platforms are examples of Unstructured data.\n",
    "\n",
    "### 3.SemiStructured Data :\n",
    "Semi Structured data is a combination of structured and unstructured data. This indicates that while it shares some traits with structured data, it also contains data that lacks a clear organization and does not follow relational databases.   Examples of semi-structured data are JSON and XML, for instance.\n"
   ]
  },
  {
   "cell_type": "markdown",
   "id": "86c0860e",
   "metadata": {},
   "source": [
    "## 2)  6 V's Of Big Data"
   ]
  },
  {
   "cell_type": "markdown",
   "id": "d508fba8",
   "metadata": {},
   "source": [
    "### Volume :\n",
    "Volume describes the amount of data that is produced and stored in a big data system. We're discussing data that is very huge and does not fit in a single machine and needs big data tools to process it.\n",
    "\n",
    "### Velocity :\n",
    "Velocity refers to the speed at which the data is coming. The rate at which data accumulates also affects whether the data is categorized as big data or regular data. Systems must be capable of handling the rate and volume of data creation since much of this data must be evaluated in real-time.\n",
    "\n",
    "### Variety :\n",
    "Variety includes the different formats and ways that different sorts of data are set up and prepared for processing. Big names like Facebook, Twitter, Pinterest, Google Ads, and CRM systems generate data that may be gathered, saved, and then evaluated.\n",
    "\n",
    "### Veracity : \n",
    "Veracity reveals the quality and source of data, enables it to be viewed as dubious, contradictory, or impure, and offers information on issues you're unsure how to handle. The data's veracity and authenticity, and what can you do with it, in brief. It is, in a sense, a hygiene issue. By demonstrating the accuracy of your data, you demonstrate that you have carefully examined it.\n",
    "\n",
    "### Variability: \n",
    "Data variability, commonly referred to as spread or dispersion, describes how dispersed a set of data is. Users can use statistics to compare their data to other sets of data by using the concept of variation, which gives users a way to explain how much data sets differ from one another.\n",
    "\n",
    "### Value :\n",
    "This V explains the value that each type of data may provide as well as how big data improves the outcomes of previously recorded data. The amount of data that we store or process is essential, but it is not the sole factor. It is also data that must be stored, analyzed, and reviewed in order to gain insights. It is data that is valuable and trustworthy.\n"
   ]
  },
  {
   "cell_type": "markdown",
   "id": "e6839d3c",
   "metadata": {},
   "source": [
    "## 3) PHASES OF DATA ANALYSIS"
   ]
  },
  {
   "cell_type": "markdown",
   "id": "6fad3e6e",
   "metadata": {},
   "source": [
    "### Phase 1 Data Acquisition and Recording :\n",
    "Data is generated from so many sources like cameras,social networkposts etc. But all the data that is generated is of no use and we need to write some filters to filter the data.\n",
    "\n",
    "### Phase 2: Information Extraction and Cleaning :\n",
    "In this phase we need to extract the use information from the generated data. We need to clean the data like filling the missing values, dropping the unnecessary columns etc.\n",
    "\n",
    "### Phase 3: Data Integration, Aggregation, and Representation:\n",
    "In this phase we need to merge information that we get from various heterogenous sources. The data that is extracted can be visualized using different visualization tools like tableau, power BI etc\n",
    "\n",
    "### Phase 4: Query Processing, Data Modeling, and Analysis:\n",
    "The simplest technique to get usable data subsets from a larger collection of data is using a query. An abstract model known as a data model organizes data items and standardizes how they relate to one another. Eg; ER Model , Semantic Data Model. The data needs to be analysed and all the times the sql queries\n",
    "\n",
    "### Phase 5: Interpretation :\n",
    "In this phase we need to understand and verify the results that are produced. We might need to know some preliminary information like how the data is derived and on what inputs we got the results etc. By this phase the model is ready for decision making.\n"
   ]
  },
  {
   "cell_type": "markdown",
   "id": "19d6de03",
   "metadata": {},
   "source": [
    "## 4) Challenges of Big Data Analysis "
   ]
  },
  {
   "cell_type": "markdown",
   "id": "d74d2cb4",
   "metadata": {},
   "source": [
    "### Heterogenity  : \n",
    "The biggest challenge of the big data analysis is the heterogenous data. Even though we clean the data some times some heterogenous data might be left in the dataset. Even this small heterogenous data will lead to the failure of the model.\n",
    "\n",
    "### Scale : \n",
    "Data Volume is increasing quickly than the computer resources. There will be some times where we require more resources and there are some times where we require less resources. For example during the black Friday sales or any other sale the traffic on the sites is higher so more resources must be allocated. Utilising a cloud computing model will be a promising solution.\n",
    "\n",
    "### Timeliness : \n",
    "Timeliness is  one of the major challenges . There will be times where the data will be too large and the results must be delivered immediately . We need to be accurate while delivering the results in time.\n",
    "\n",
    "### Privacy :  \n",
    "One of the major difficulties of big data is keeping these enormous sets of data secure. Companies frequently put data security to later phases because they are so busy understanding, storing, and analyzing their data sets. However, this is a bad idea because unprotected data repositories might serve as a haven for malevolent hackers.\n",
    "\n",
    "#### Human Collobaration : \n",
    "Human analysis is also required in the big data analysis along with the computational analysis . Big data system must support input from various human experts. We need to be deal with the errors that might be possible. \n"
   ]
  },
  {
   "cell_type": "markdown",
   "id": "78973895",
   "metadata": {},
   "source": [
    "## Referenece :\n",
    "### https://bau.edu/blog/characteristics-of-big-data/\n",
    "### https://www.upgrad.com/blog/major-challenges-of-big-data/\n",
    "### https://en.wikipedia.org/wiki/Big_data\n",
    "### Class notes"
   ]
  },
  {
   "cell_type": "code",
   "execution_count": null,
   "id": "d0da6583",
   "metadata": {},
   "outputs": [],
   "source": []
  }
 ],
 "metadata": {
  "kernelspec": {
   "display_name": "Python 3 (ipykernel)",
   "language": "python",
   "name": "python3"
  },
  "language_info": {
   "codemirror_mode": {
    "name": "ipython",
    "version": 3
   },
   "file_extension": ".py",
   "mimetype": "text/x-python",
   "name": "python",
   "nbconvert_exporter": "python",
   "pygments_lexer": "ipython3",
   "version": "3.11.1"
  }
 },
 "nbformat": 4,
 "nbformat_minor": 5
}
